{
 "cells": [
  {
   "cell_type": "markdown",
   "id": "74c10f80-1c6b-4cd3-bb55-10bb391ade31",
   "metadata": {},
   "source": [
    "Q1. Explain with an example each when to use a for loop and a while loop."
   ]
  },
  {
   "cell_type": "markdown",
   "id": "b6c5451d-4350-46b9-8c77-a501dfbe830e",
   "metadata": {},
   "source": [
    " SOL 1 :\n",
    " \n",
    " A \"For\" Loop is used to repeat a specific block of code a known number of times. \n",
    " Example shown below :"
   ]
  },
  {
   "cell_type": "code",
   "execution_count": 1,
   "id": "d70d8798-3ad0-4428-8202-8a3c9fefac11",
   "metadata": {},
   "outputs": [
    {
     "name": "stdout",
     "output_type": "stream",
     "text": [
      "0\n",
      "1\n",
      "2\n",
      "3\n",
      "4\n",
      "5\n",
      "6\n",
      "7\n",
      "8\n",
      "9\n"
     ]
    }
   ],
   "source": [
    "i = range(10)\n",
    "for j in i :\n",
    "    print(j)"
   ]
  },
  {
   "cell_type": "markdown",
   "id": "7058f852-5ba0-44a4-997a-289765502393",
   "metadata": {},
   "source": [
    "\"While\" loop is used to execute code until over condition fails . it will work in loop until our condition is true ."
   ]
  },
  {
   "cell_type": "code",
   "execution_count": 2,
   "id": "f931d440-a947-41b4-b92d-996ba9e82f22",
   "metadata": {},
   "outputs": [
    {
     "name": "stdout",
     "output_type": "stream",
     "text": [
      "2\n",
      "4\n",
      "8\n",
      "16\n",
      "32\n",
      "64\n",
      "128\n",
      "256\n",
      "512\n"
     ]
    }
   ],
   "source": [
    "a = 2\n",
    "while a<1000 :\n",
    "    print(a)\n",
    "    a=a*2"
   ]
  },
  {
   "cell_type": "markdown",
   "id": "15bba676-603a-4ebd-a106-630b07a4d5e7",
   "metadata": {},
   "source": [
    "Q2. Write a python program to print the sum and product of the first 10 natural numbers using for\n",
    "and while loop."
   ]
  },
  {
   "cell_type": "markdown",
   "id": "e6e66bff-0979-42d8-bb38-f991ac6ead20",
   "metadata": {},
   "source": [
    "SOL 2 :\n",
    "    Using \"FOR\" loop"
   ]
  },
  {
   "cell_type": "code",
   "execution_count": 3,
   "id": "0fb07877-c7f0-48e1-8b0a-24ad6183e44c",
   "metadata": {},
   "outputs": [
    {
     "data": {
      "text/plain": [
       "55"
      ]
     },
     "execution_count": 3,
     "metadata": {},
     "output_type": "execute_result"
    }
   ],
   "source": [
    "l = list(range(1,11))\n",
    "sum=0\n",
    "for i in l:\n",
    "    sum=sum+i\n",
    "sum\n",
    "    "
   ]
  },
  {
   "cell_type": "code",
   "execution_count": 4,
   "id": "f6ede45f-9a7b-45f0-840e-3748007c41da",
   "metadata": {},
   "outputs": [
    {
     "data": {
      "text/plain": [
       "3628800"
      ]
     },
     "execution_count": 4,
     "metadata": {},
     "output_type": "execute_result"
    }
   ],
   "source": [
    "l = list(range(1,11))\n",
    "product=1\n",
    "for i in l:\n",
    "    product=product*i\n",
    "product\n",
    "    "
   ]
  },
  {
   "cell_type": "raw",
   "id": "31a3f0ee-67e9-4b44-94ad-b14841ac930a",
   "metadata": {},
   "source": [
    "Using \"WHILE\" loop"
   ]
  },
  {
   "cell_type": "code",
   "execution_count": 5,
   "id": "f040be52-bd44-4301-8726-109ee14b4147",
   "metadata": {},
   "outputs": [
    {
     "data": {
      "text/plain": [
       "55"
      ]
     },
     "execution_count": 5,
     "metadata": {},
     "output_type": "execute_result"
    }
   ],
   "source": [
    "n = 1\n",
    "sum = 0\n",
    "while n<=10 :\n",
    "    sum=sum+n\n",
    "    n=n+1\n",
    "sum    "
   ]
  },
  {
   "cell_type": "code",
   "execution_count": 6,
   "id": "1d286b42-8e9c-4c8b-bafb-541bb11c73d2",
   "metadata": {},
   "outputs": [
    {
     "data": {
      "text/plain": [
       "3628800"
      ]
     },
     "execution_count": 6,
     "metadata": {},
     "output_type": "execute_result"
    }
   ],
   "source": [
    "n=1\n",
    "product=1\n",
    "while n<=10:\n",
    "    product=product*n\n",
    "    n=n+1\n",
    "product"
   ]
  },
  {
   "cell_type": "markdown",
   "id": "6815748a-af36-4445-9ebc-6c0cc0ced98d",
   "metadata": {},
   "source": [
    "Q3. Create a python program to compute the electricity bill for a household.\n",
    "The per-unit charges in rupees are as follows: For the first 100 units, the user will be charged Rs. 4.5 per\n",
    "unit, for the next 100 units, the user will be charged Rs. 6 per unit, and for the next 100 units, the user will\n",
    "be charged Rs. 10 per unit, After 300 units and above the user will be charged Rs. 20 per unit.\n",
    "You are required to take the units of electricity consumed in a month from the user as input.\n",
    "\n",
    "Your program must pass this test case: when the unit of electricity consumed by the user in a month is\n",
    "310, the total electricity bill should be 2250"
   ]
  },
  {
   "cell_type": "markdown",
   "id": "8968c138-a4ff-4f2f-b88c-ea8a81fbbfba",
   "metadata": {},
   "source": [
    "SOL :3-"
   ]
  },
  {
   "cell_type": "code",
   "execution_count": 8,
   "id": "afd3ee17-33d8-4bdc-96f1-e35024abaed9",
   "metadata": {},
   "outputs": [
    {
     "name": "stdin",
     "output_type": "stream",
     "text": [
      "enter your unit of electricity consumed in a month   310\n"
     ]
    },
    {
     "name": "stdout",
     "output_type": "stream",
     "text": [
      "Total electricity bill 2250.0\n"
     ]
    }
   ],
   "source": [
    "units = int(input(\"enter your unit of electricity consumed in a month  \"))\n",
    "if units< 100:\n",
    "    charges = 4.5 * units\n",
    "elif units<200:\n",
    "    charges = 4.5 * 100 + 6 * (units-100)\n",
    "elif units <300:\n",
    "    charges = 4.5 * 100 + 6 * 100 + 10 * (units-200)\n",
    "else :\n",
    "    charges = 4.5 * 100 + 6 * 100 + 10 * 100 + 20 * (units-300)\n",
    "print(\"Total electricity bill\", charges)    "
   ]
  },
  {
   "cell_type": "code",
   "execution_count": null,
   "id": "783d4c46-11a5-4a58-bbe5-657075e706ad",
   "metadata": {},
   "outputs": [],
   "source": []
  },
  {
   "cell_type": "markdown",
   "id": "e3d7cf32-e117-412b-9033-09b39fa2ebd0",
   "metadata": {},
   "source": [
    "# Q4. Create a list of numbers from 1 to 100. Use for loop and while loop to calculate the cube of each\n",
    "number and if the cube of that number is divisible by 4 or 5 then append that number in a list and print\n",
    "that list."
   ]
  },
  {
   "cell_type": "markdown",
   "id": "bc332895-1cfb-4767-a2e5-49c34f62d064",
   "metadata": {},
   "source": [
    " SOL : - Using \"FOR\" loop"
   ]
  },
  {
   "cell_type": "code",
   "execution_count": 9,
   "id": "5c72a21a-807e-4d96-b55f-40530039039e",
   "metadata": {},
   "outputs": [
    {
     "data": {
      "text/plain": [
       "[2,\n",
       " 4,\n",
       " 5,\n",
       " 6,\n",
       " 8,\n",
       " 10,\n",
       " 12,\n",
       " 14,\n",
       " 15,\n",
       " 16,\n",
       " 18,\n",
       " 20,\n",
       " 22,\n",
       " 24,\n",
       " 25,\n",
       " 26,\n",
       " 28,\n",
       " 30,\n",
       " 32,\n",
       " 34,\n",
       " 35,\n",
       " 36,\n",
       " 38,\n",
       " 40,\n",
       " 42,\n",
       " 44,\n",
       " 45,\n",
       " 46,\n",
       " 48,\n",
       " 50,\n",
       " 52,\n",
       " 54,\n",
       " 55,\n",
       " 56,\n",
       " 58,\n",
       " 60,\n",
       " 62,\n",
       " 64,\n",
       " 65,\n",
       " 66,\n",
       " 68,\n",
       " 70,\n",
       " 72,\n",
       " 74,\n",
       " 75,\n",
       " 76,\n",
       " 78,\n",
       " 80,\n",
       " 82,\n",
       " 84,\n",
       " 85,\n",
       " 86,\n",
       " 88,\n",
       " 90,\n",
       " 92,\n",
       " 94,\n",
       " 95,\n",
       " 96,\n",
       " 98,\n",
       " 100]"
      ]
     },
     "execution_count": 9,
     "metadata": {},
     "output_type": "execute_result"
    }
   ],
   "source": [
    "l = list(range(1,101))\n",
    "l1=[]\n",
    "for i in l:\n",
    "    cube=i**3\n",
    "    if cube%4==0 or cube%5==0 :\n",
    "        l1.append(i)\n",
    "l1        \n",
    "    "
   ]
  },
  {
   "cell_type": "code",
   "execution_count": 10,
   "id": "0f477c0b-b7ae-478e-bc93-c2ac1ec9dfc7",
   "metadata": {},
   "outputs": [
    {
     "data": {
      "text/plain": [
       "[2,\n",
       " 4,\n",
       " 5,\n",
       " 6,\n",
       " 8,\n",
       " 10,\n",
       " 12,\n",
       " 14,\n",
       " 15,\n",
       " 16,\n",
       " 18,\n",
       " 20,\n",
       " 22,\n",
       " 24,\n",
       " 25,\n",
       " 26,\n",
       " 28,\n",
       " 30,\n",
       " 32,\n",
       " 34,\n",
       " 35,\n",
       " 36,\n",
       " 38,\n",
       " 40,\n",
       " 42,\n",
       " 44,\n",
       " 45,\n",
       " 46,\n",
       " 48,\n",
       " 50,\n",
       " 52,\n",
       " 54,\n",
       " 55,\n",
       " 56,\n",
       " 58,\n",
       " 60,\n",
       " 62,\n",
       " 64,\n",
       " 65,\n",
       " 66,\n",
       " 68,\n",
       " 70,\n",
       " 72,\n",
       " 74,\n",
       " 75,\n",
       " 76,\n",
       " 78,\n",
       " 80,\n",
       " 82,\n",
       " 84,\n",
       " 85,\n",
       " 86,\n",
       " 88,\n",
       " 90,\n",
       " 92,\n",
       " 94,\n",
       " 95,\n",
       " 96,\n",
       " 98,\n",
       " 100]"
      ]
     },
     "execution_count": 10,
     "metadata": {},
     "output_type": "execute_result"
    }
   ],
   "source": [
    "l=list(range(1,101))\n",
    "i=1\n",
    "l2=[]\n",
    "while i<=100:\n",
    "    cube=i**3\n",
    "    if cube%4==0 or cube%5==0 :\n",
    "        l2.append(i)\n",
    "    i=i+1        \n",
    "l2    "
   ]
  },
  {
   "cell_type": "code",
   "execution_count": null,
   "id": "0b3f8aac-4f6c-4400-b8e8-949e60d8135d",
   "metadata": {},
   "outputs": [],
   "source": []
  },
  {
   "cell_type": "markdown",
   "id": "b6a71b70-9175-4b47-aec2-28045bcead70",
   "metadata": {},
   "source": [
    "Q5. Write a program to filter count vowels in the below-given string.\n",
    "\n",
    "string = \"I want to become a data scientist\""
   ]
  },
  {
   "cell_type": "code",
   "execution_count": 11,
   "id": "b92439f2-d91a-4710-8a4e-da8bc0680f8b",
   "metadata": {},
   "outputs": [],
   "source": [
    "string = \"I want to become a data scientist \""
   ]
  },
  {
   "cell_type": "code",
   "execution_count": 12,
   "id": "1265240a-94e2-4012-8d3e-d8f4812bd824",
   "metadata": {},
   "outputs": [],
   "source": [
    "l1=[]\n",
    "for i in string :\n",
    "    if i in [\"a\",\"e\",\"i\",\"o\",\"u\",\"A\",\"E\",\"I\",\"O\",\"U\"] :\n",
    "        l1.append(i)"
   ]
  },
  {
   "cell_type": "code",
   "execution_count": 13,
   "id": "9d68b5d5-1959-4e60-9653-0b87b1a2ecdb",
   "metadata": {},
   "outputs": [
    {
     "data": {
      "text/plain": [
       "['I', 'a', 'o', 'e', 'o', 'e', 'a', 'a', 'a', 'i', 'e', 'i']"
      ]
     },
     "execution_count": 13,
     "metadata": {},
     "output_type": "execute_result"
    }
   ],
   "source": [
    "l1"
   ]
  },
  {
   "cell_type": "code",
   "execution_count": 14,
   "id": "de6eb487-e846-47d4-a725-22581a0bc12c",
   "metadata": {},
   "outputs": [
    {
     "data": {
      "text/plain": [
       "12"
      ]
     },
     "execution_count": 14,
     "metadata": {},
     "output_type": "execute_result"
    }
   ],
   "source": [
    "len(l1)"
   ]
  },
  {
   "cell_type": "markdown",
   "id": "7d813273-fc2d-4ced-984c-ab895b861cf0",
   "metadata": {},
   "source": [
    "ie count of vowels is 12"
   ]
  },
  {
   "cell_type": "code",
   "execution_count": null,
   "id": "109dcc42-9f1d-44e6-861f-e3eaee53546f",
   "metadata": {},
   "outputs": [],
   "source": []
  },
  {
   "cell_type": "code",
   "execution_count": null,
   "id": "b4bde753-271a-4198-8efa-0c568ab39381",
   "metadata": {},
   "outputs": [],
   "source": []
  }
 ],
 "metadata": {
  "kernelspec": {
   "display_name": "Python 3 (ipykernel)",
   "language": "python",
   "name": "python3"
  },
  "language_info": {
   "codemirror_mode": {
    "name": "ipython",
    "version": 3
   },
   "file_extension": ".py",
   "mimetype": "text/x-python",
   "name": "python",
   "nbconvert_exporter": "python",
   "pygments_lexer": "ipython3",
   "version": "3.10.8"
  }
 },
 "nbformat": 4,
 "nbformat_minor": 5
}
